{
 "cells": [
  {
   "cell_type": "code",
   "execution_count": 1,
   "metadata": {},
   "outputs": [],
   "source": [
    "import os\n",
    "os.chdir(\"DA-MRS/data/baby\")"
   ]
  },
  {
   "cell_type": "code",
   "execution_count": 2,
   "metadata": {},
   "outputs": [],
   "source": [
    "import json\n",
    "import pandas as pd\n",
    "\n",
    "df = pd.read_csv(\"baby.inter\", sep = '\\t')\n",
    "df_del = pd.read_csv(\"baby_del.inter\", sep = '\\t')\n",
    "df_del2 = pd.read_csv(\"baby_del_0.2.inter\", sep = '\\t')"
   ]
  },
  {
   "cell_type": "code",
   "execution_count": 3,
   "metadata": {},
   "outputs": [],
   "source": [
    "import numpy as np\n",
    "n_items = 7050\n",
    "df1 = df[df['x_label'] == 0]\n",
    "item_cnt_df = pd.DataFrame(data = {'itemID' : np.arange(n_items)})\n",
    "item_cnt_df = item_cnt_df.join(df1[['userID', 'itemID']].groupby('itemID').count())\n",
    "item_cnt_df.rename(columns = {'userID' : 'train_cnt'}, inplace = True)\n",
    "item_cnt_df.fillna(0, inplace = True)\n",
    "item_cnt_df.sort_values('train_cnt', inplace = True)"
   ]
  },
  {
   "cell_type": "code",
   "execution_count": 4,
   "metadata": {},
   "outputs": [],
   "source": [
    "df2 = df[df['x_label'] == 2]\n",
    "# item_cnt_df = pd.DataFrame(data = {'itemID' : np.arange(n_items)})\n",
    "item_cnt_df = item_cnt_df.join(df2[['userID', 'itemID']].groupby('itemID').count())\n",
    "item_cnt_df.rename(columns = {'userID' : 'test_cnt'}, inplace = True)\n",
    "item_cnt_df.fillna(0, inplace = True)\n",
    "item_cnt_df.sort_values('test_cnt', inplace = True)"
   ]
  },
  {
   "cell_type": "code",
   "execution_count": 5,
   "metadata": {},
   "outputs": [],
   "source": [
    "items_group_cold = np.array(item_cnt_df[:int(n_items * 0.7)]['itemID'].tolist())\n",
    "items_group_warm = np.array(item_cnt_df[int(n_items * 0.7):]['itemID'].tolist())"
   ]
  },
  {
   "cell_type": "code",
   "execution_count": 6,
   "metadata": {},
   "outputs": [],
   "source": [
    "new_item_ratio = 0.2\n",
    "\n",
    "np.random.seed(1111)\n",
    "new_items_cold = np.random.choice(items_group_cold, size = int(new_item_ratio * len(items_group_cold)), replace = False)\n",
    "new_items_warm = np.random.choice(items_group_warm, size = int(new_item_ratio * len(items_group_warm)), replace = False)\n",
    "new_items = np.concatenate((new_items_cold, new_items_warm))\n",
    "# np.save(\"new_items.npy\", new_items)\n",
    "# np.save(\"cold_items.npy\", items_group_cold)\n",
    "# np.save(\"warm_items.npy\", items_group_warm)"
   ]
  },
  {
   "cell_type": "code",
   "execution_count": 7,
   "metadata": {},
   "outputs": [],
   "source": [
    "all_items = np.arange(n_items)\n",
    "old_items = np.setdiff1d(all_items, new_items)\n",
    "old_items_cold = np.setdiff1d(items_group_cold, new_items_cold)\n",
    "old_items_warm = np.setdiff1d(items_group_warm, new_items_warm)"
   ]
  },
  {
   "cell_type": "code",
   "execution_count": 17,
   "metadata": {},
   "outputs": [],
   "source": [
    "missing_item_ratio = 0.8 #2/3\n",
    "\n",
    "np.random.seed(1225) #2024\n",
    "missing_items_nc = np.random.choice(new_items_cold, size = int(missing_item_ratio * len(new_items_cold)), replace = False)\n",
    "missing_items_nw = np.random.choice(new_items_warm, size = int(missing_item_ratio * len(new_items_warm)), replace = False)\n",
    "missing_items_oc = np.random.choice(old_items_cold, size = int(missing_item_ratio * len(old_items_cold)), replace = False)\n",
    "missing_items_ow = np.random.choice(old_items_warm, size = int(missing_item_ratio * len(old_items_warm)), replace = False)\n",
    "missing_items = np.concatenate((missing_items_nc, missing_items_nw, missing_items_oc, missing_items_ow))\n"
   ]
  },
  {
   "cell_type": "code",
   "execution_count": 18,
   "metadata": {},
   "outputs": [
    {
     "name": "stdout",
     "output_type": "stream",
     "text": [
      "[197, 197, 197, 198]\n",
      "[84, 85, 84, 85]\n",
      "[789, 790, 789, 790]\n",
      "[338, 338, 338, 339]\n"
     ]
    }
   ],
   "source": [
    "def split_arr_(arr, k = 4) :\n",
    "    res = []\n",
    "    l = len(arr) / k\n",
    "    check_ = 0\n",
    "    for i in range(k) :\n",
    "        from_, to_ = int(i * l), int((i+1) * l)\n",
    "        res.append(arr[from_:to_])\n",
    "        check_ += len(res[i])\n",
    "    assert check_ == len(arr)\n",
    "    print([len(i) for i in res])\n",
    "    return res\n",
    "\n",
    "mnc = split_arr_(missing_items_nc)\n",
    "mnw = split_arr_(missing_items_nw)\n",
    "moc = split_arr_(missing_items_oc)\n",
    "mow = split_arr_(missing_items_ow)\n",
    "\n",
    "missing_items_dict = {}\n",
    "missing_items_dict['t'] = np.concatenate((mnc[0], mnw[0], moc[0], mow[0]))\n",
    "missing_items_dict['v'] = np.concatenate((mnc[1], mnw[1], moc[1], mow[1]))\n",
    "# missing_items_dict['all'] = np.concatenate((mnc[3], mnw[3], moc[3], mow[3]))\n",
    "missing_items_dict['all'] = np.concatenate((mnc[2], mnw[2], moc[2], mow[2],\n",
    "                                            mnc[3], mnw[3], moc[3], mow[3]))"
   ]
  },
  {
   "cell_type": "code",
   "execution_count": 19,
   "metadata": {},
   "outputs": [],
   "source": [
    "np.save(f\"missing_items_{missing_item_ratio}\", missing_items_dict, allow_pickle = True)"
   ]
  },
  {
   "cell_type": "code",
   "execution_count": 19,
   "metadata": {},
   "outputs": [
    {
     "name": "stdout",
     "output_type": "stream",
     "text": [
      "Total : 7050\n",
      "New Items : 1410 |  0.200\n",
      "Cold Items : 4935 |  0.700\n",
      "Complete Items : 4232 | 0.600\n",
      "Missing  Items : 2818 | 0.400\n"
     ]
    }
   ],
   "source": [
    "complete_items = np.setdiff1d(all_items, missing_items)\n",
    "old_items = np.setdiff1d(all_items, new_items)\n",
    "print(f\"Total : {len(all_items)}\")\n",
    "print(f\"New Items : {len(new_items)} | {len(new_items) / len(all_items) : .3f}\")\n",
    "print(f\"Cold Items : {len(items_group_cold)} | {len(items_group_cold) / len(all_items) : .3f}\")\n",
    "print(f\"Complete Items : {len(complete_items)} | {len(complete_items) / len(all_items) :.3f}\")\n",
    "print(f\"Missing  Items : {len(missing_items)} | {len(missing_items) / len(all_items) :.3f}\")"
   ]
  },
  {
   "cell_type": "code",
   "execution_count": 13,
   "metadata": {},
   "outputs": [
    {
     "data": {
      "text/plain": [
       "15445"
      ]
     },
     "execution_count": 13,
     "metadata": {},
     "output_type": "execute_result"
    }
   ],
   "source": [
    "# df[df.itemID.isin(new_items)].userID.nunique()"
   ]
  },
  {
   "cell_type": "code",
   "execution_count": 16,
   "metadata": {},
   "outputs": [
    {
     "name": "stdout",
     "output_type": "stream",
     "text": [
      "        userID  itemID  rating   timestamp  x_label\n",
      "21           3    6320     5.0  1376697600        2\n",
      "26           4       0     4.0  1396310400        2\n",
      "42           6    5374     1.0  1374019200        2\n",
      "59           8    3664     2.0  1401667200        2\n",
      "73           9       0     5.0  1384819200        2\n",
      "...        ...     ...     ...         ...      ...\n",
      "160749   19438    6810     4.0  1388102400        2\n",
      "160768   19440    6871     5.0  1393718400        2\n",
      "160774   19441    6833     5.0  1388448000        2\n",
      "160786   19443    6942     4.0  1404259200        2\n",
      "160791   19444    6994     5.0  1393632000        2\n",
      "\n",
      "[17659 rows x 5 columns]\n",
      "        userID  itemID  rating   timestamp  x_label\n",
      "19           3    2194     4.0  1376697600        0\n",
      "21           3    6320     5.0  1376697600        2\n",
      "24           4    5070     4.0  1396310400        0\n",
      "26           4       0     4.0  1396310400        2\n",
      "32           6     771     5.0  1374019200        0\n",
      "...        ...     ...     ...         ...      ...\n",
      "160781   19443    7039     4.0  1404259200        0\n",
      "160783   19443    7032     4.0  1404259200        0\n",
      "160786   19443    6942     4.0  1404259200        2\n",
      "160789   19444    7005     5.0  1396310400        0\n",
      "160791   19444    6994     5.0  1393632000        2\n",
      "\n",
      "[41963 rows x 5 columns]\n"
     ]
    }
   ],
   "source": [
    "# related_users = df[df.itemID.isin(new_items)].userID.unique()\n",
    "print(df[((df.userID.isin(related_users)) & (df.x_label == 2))])\n",
    "print(df[((df.userID.isin(related_users)) & (df.x_label == 2)) | (df.itemID.isin(new_items) & (df.x_label == 0))])"
   ]
  },
  {
   "cell_type": "code",
   "execution_count": 14,
   "metadata": {},
   "outputs": [
    {
     "name": "stdout",
     "output_type": "stream",
     "text": [
      "New Items : 1410 |  0.200\n",
      "\tIn Warm Items : 423 | 0.300\n",
      "\t\tIn Complete Items : 339 | 0.801\n",
      "\t\tIn Missing  Items : 84 | 0.199\n",
      "\t\t\tIn Missing_t Items : 21 | 0.250\n",
      "\t\t\tIn Missing_v Items : 21 | 0.250\n",
      "\t\t\tIn Missing_tva Items : 42 | 0.500\n",
      "\tIn Cold Items : 987 | 0.700\n",
      "\t\tIn Complete Items : 790 | 0.800\n",
      "\t\tIn Missing  Items : 197 | 0.200\n",
      "\t\t\tIn Missing_t Items : 49 | 0.249\n",
      "\t\t\tIn Missing_v Items : 49 | 0.249\n",
      "\t\t\tIn Missing_tva Items : 99 | 0.503\n"
     ]
    }
   ],
   "source": [
    "print(f\"New Items : {len(new_items)} | {len(new_items) / len(all_items) : .3f}\")  \n",
    "dummy_ = np.intersect1d(new_items, items_group_warm)\n",
    "print(f\"\\tIn Warm Items : {len(dummy_)} | {len(dummy_) / len(new_items):.3f}\")\n",
    "dummy__ = np.intersect1d(dummy_, complete_items)\n",
    "print(f\"\\t\\tIn Complete Items : {len(dummy__)} | {len(dummy__) / len(dummy_):.3f}\")\n",
    "dummy__ = np.intersect1d(dummy_, missing_items)\n",
    "print(f\"\\t\\tIn Missing  Items : {len(dummy__)} | {len(dummy__) / len(dummy_):.3f}\")\n",
    "\n",
    "dummy___ = np.intersect1d(dummy__, missing_items_dict['t'])\n",
    "print(f\"\\t\\t\\tIn Missing_t Items : {len(dummy___)} | {len(dummy___) / len(dummy__):.3f}\")\n",
    "dummy___ = np.intersect1d(dummy__, missing_items_dict['v'])\n",
    "print(f\"\\t\\t\\tIn Missing_v Items : {len(dummy___)} | {len(dummy___) / len(dummy__):.3f}\")\n",
    "\n",
    "dummy___ = np.intersect1d(dummy__, missing_items_dict['all'])\n",
    "print(f\"\\t\\t\\tIn Missing_tva Items : {len(dummy___)} | {len(dummy___) / len(dummy__):.3f}\")\n",
    "\n",
    "dummy_ = np.intersect1d(new_items, items_group_cold)\n",
    "print(f\"\\tIn Cold Items : {len(dummy_)} | {len(dummy_) / len(new_items):.3f}\")\n",
    "dummy__ = np.intersect1d(dummy_, complete_items)\n",
    "print(f\"\\t\\tIn Complete Items : {len(dummy__)} | {len(dummy__) / len(dummy_):.3f}\")\n",
    "dummy__ = np.intersect1d(dummy_, missing_items)\n",
    "print(f\"\\t\\tIn Missing  Items : {len(dummy__)} | {len(dummy__) / len(dummy_):.3f}\")\n",
    "\n",
    "dummy___ = np.intersect1d(dummy__, missing_items_dict['t'])\n",
    "print(f\"\\t\\t\\tIn Missing_t Items : {len(dummy___)} | {len(dummy___) / len(dummy__):.3f}\")\n",
    "dummy___ = np.intersect1d(dummy__, missing_items_dict['v'])\n",
    "print(f\"\\t\\t\\tIn Missing_v Items : {len(dummy___)} | {len(dummy___) / len(dummy__):.3f}\")\n",
    "\n",
    "dummy___ = np.intersect1d(dummy__, missing_items_dict['all'])\n",
    "print(f\"\\t\\t\\tIn Missing_tva Items : {len(dummy___)} | {len(dummy___) / len(dummy__):.3f}\")"
   ]
  },
  {
   "cell_type": "code",
   "execution_count": 13,
   "metadata": {},
   "outputs": [],
   "source": [
    "missing_items_dict =np.load(\"./missing_items_0.666.npy\", allow_pickle = True).item()"
   ]
  },
  {
   "cell_type": "code",
   "execution_count": 14,
   "metadata": {},
   "outputs": [
    {
     "data": {
      "text/plain": [
       "dict_keys(['t', 'v', 'all'])"
      ]
     },
     "execution_count": 14,
     "metadata": {},
     "output_type": "execute_result"
    }
   ],
   "source": [
    "missing_items_dict.keys()"
   ]
  },
  {
   "cell_type": "code",
   "execution_count": 15,
   "metadata": {},
   "outputs": [],
   "source": [
    "missing_items_1 = np.concatenate((missing_items_dict['t'], missing_items_dict['v']))\n",
    "missing_items_2 = missing_items_dict['all']"
   ]
  },
  {
   "cell_type": "code",
   "execution_count": 17,
   "metadata": {},
   "outputs": [],
   "source": [
    "new_items = np.load(\"./new_items.npy\")"
   ]
  },
  {
   "cell_type": "code",
   "execution_count": 40,
   "metadata": {},
   "outputs": [],
   "source": [
    "item_cnt_df['new_item'] = item_cnt_df['itemID'].isin(new_items).astype(int)\n",
    "item_cnt_df['missing_modal'] = 0.0\n",
    "item_cnt_df.loc[item_cnt_df['itemID'].isin(missing_items_1), 'missing_modal'] = 1 \n",
    "item_cnt_df.loc[item_cnt_df['itemID'].isin(missing_items_2), 'missing_modal'] = 2 "
   ]
  },
  {
   "cell_type": "code",
   "execution_count": 42,
   "metadata": {},
   "outputs": [
    {
     "data": {
      "text/html": [
       "<div>\n",
       "<style scoped>\n",
       "    .dataframe tbody tr th:only-of-type {\n",
       "        vertical-align: middle;\n",
       "    }\n",
       "\n",
       "    .dataframe tbody tr th {\n",
       "        vertical-align: top;\n",
       "    }\n",
       "\n",
       "    .dataframe thead tr th {\n",
       "        text-align: left;\n",
       "    }\n",
       "\n",
       "    .dataframe thead tr:last-of-type th {\n",
       "        text-align: right;\n",
       "    }\n",
       "</style>\n",
       "<table border=\"1\" class=\"dataframe\">\n",
       "  <thead>\n",
       "    <tr>\n",
       "      <th></th>\n",
       "      <th colspan=\"5\" halign=\"left\">train_cnt</th>\n",
       "      <th colspan=\"5\" halign=\"left\">test_cnt</th>\n",
       "    </tr>\n",
       "    <tr>\n",
       "      <th></th>\n",
       "      <th>sum</th>\n",
       "      <th>std</th>\n",
       "      <th>mean</th>\n",
       "      <th>max</th>\n",
       "      <th>min</th>\n",
       "      <th>sum</th>\n",
       "      <th>std</th>\n",
       "      <th>mean</th>\n",
       "      <th>max</th>\n",
       "      <th>min</th>\n",
       "    </tr>\n",
       "    <tr>\n",
       "      <th>new_item</th>\n",
       "      <th></th>\n",
       "      <th></th>\n",
       "      <th></th>\n",
       "      <th></th>\n",
       "      <th></th>\n",
       "      <th></th>\n",
       "      <th></th>\n",
       "      <th></th>\n",
       "      <th></th>\n",
       "      <th></th>\n",
       "    </tr>\n",
       "  </thead>\n",
       "  <tbody>\n",
       "    <tr>\n",
       "      <th>0</th>\n",
       "      <td>95062.0</td>\n",
       "      <td>27.775196</td>\n",
       "      <td>16.854965</td>\n",
       "      <td>554.0</td>\n",
       "      <td>0.0</td>\n",
       "      <td>17517.0</td>\n",
       "      <td>5.380731</td>\n",
       "      <td>3.105851</td>\n",
       "      <td>116.0</td>\n",
       "      <td>0.0</td>\n",
       "    </tr>\n",
       "    <tr>\n",
       "      <th>1</th>\n",
       "      <td>23489.0</td>\n",
       "      <td>25.023182</td>\n",
       "      <td>16.658865</td>\n",
       "      <td>263.0</td>\n",
       "      <td>1.0</td>\n",
       "      <td>4165.0</td>\n",
       "      <td>4.401432</td>\n",
       "      <td>2.953901</td>\n",
       "      <td>49.0</td>\n",
       "      <td>0.0</td>\n",
       "    </tr>\n",
       "  </tbody>\n",
       "</table>\n",
       "</div>"
      ],
      "text/plain": [
       "         train_cnt                                   test_cnt            \\\n",
       "               sum        std       mean    max  min      sum       std   \n",
       "new_item                                                                  \n",
       "0          95062.0  27.775196  16.854965  554.0  0.0  17517.0  5.380731   \n",
       "1          23489.0  25.023182  16.658865  263.0  1.0   4165.0  4.401432   \n",
       "\n",
       "                                \n",
       "              mean    max  min  \n",
       "new_item                        \n",
       "0         3.105851  116.0  0.0  \n",
       "1         2.953901   49.0  0.0  "
      ]
     },
     "execution_count": 42,
     "metadata": {},
     "output_type": "execute_result"
    }
   ],
   "source": [
    "item_cnt_df[['train_cnt', 'test_cnt', 'new_item']].groupby(['new_item']).agg(['sum', 'std', 'mean', 'max', 'min'])"
   ]
  },
  {
   "cell_type": "code",
   "execution_count": 43,
   "metadata": {},
   "outputs": [
    {
     "data": {
      "text/html": [
       "<div>\n",
       "<style scoped>\n",
       "    .dataframe tbody tr th:only-of-type {\n",
       "        vertical-align: middle;\n",
       "    }\n",
       "\n",
       "    .dataframe tbody tr th {\n",
       "        vertical-align: top;\n",
       "    }\n",
       "\n",
       "    .dataframe thead tr th {\n",
       "        text-align: left;\n",
       "    }\n",
       "\n",
       "    .dataframe thead tr:last-of-type th {\n",
       "        text-align: right;\n",
       "    }\n",
       "</style>\n",
       "<table border=\"1\" class=\"dataframe\">\n",
       "  <thead>\n",
       "    <tr>\n",
       "      <th></th>\n",
       "      <th colspan=\"5\" halign=\"left\">train_cnt</th>\n",
       "      <th colspan=\"5\" halign=\"left\">test_cnt</th>\n",
       "    </tr>\n",
       "    <tr>\n",
       "      <th></th>\n",
       "      <th>sum</th>\n",
       "      <th>std</th>\n",
       "      <th>mean</th>\n",
       "      <th>max</th>\n",
       "      <th>min</th>\n",
       "      <th>sum</th>\n",
       "      <th>std</th>\n",
       "      <th>mean</th>\n",
       "      <th>max</th>\n",
       "      <th>min</th>\n",
       "    </tr>\n",
       "    <tr>\n",
       "      <th>missing_modal</th>\n",
       "      <th></th>\n",
       "      <th></th>\n",
       "      <th></th>\n",
       "      <th></th>\n",
       "      <th></th>\n",
       "      <th></th>\n",
       "      <th></th>\n",
       "      <th></th>\n",
       "      <th></th>\n",
       "      <th></th>\n",
       "    </tr>\n",
       "  </thead>\n",
       "  <tbody>\n",
       "    <tr>\n",
       "      <th>0.0</th>\n",
       "      <td>41555.0</td>\n",
       "      <td>31.646547</td>\n",
       "      <td>17.682979</td>\n",
       "      <td>554.0</td>\n",
       "      <td>1.0</td>\n",
       "      <td>7680.0</td>\n",
       "      <td>6.111881</td>\n",
       "      <td>3.268085</td>\n",
       "      <td>116.0</td>\n",
       "      <td>0.0</td>\n",
       "    </tr>\n",
       "    <tr>\n",
       "      <th>1.0</th>\n",
       "      <td>39234.0</td>\n",
       "      <td>25.909245</td>\n",
       "      <td>16.695319</td>\n",
       "      <td>472.0</td>\n",
       "      <td>0.0</td>\n",
       "      <td>7105.0</td>\n",
       "      <td>4.866796</td>\n",
       "      <td>3.023404</td>\n",
       "      <td>84.0</td>\n",
       "      <td>0.0</td>\n",
       "    </tr>\n",
       "    <tr>\n",
       "      <th>2.0</th>\n",
       "      <td>37762.0</td>\n",
       "      <td>23.525670</td>\n",
       "      <td>16.068936</td>\n",
       "      <td>263.0</td>\n",
       "      <td>0.0</td>\n",
       "      <td>6897.0</td>\n",
       "      <td>4.475896</td>\n",
       "      <td>2.934894</td>\n",
       "      <td>56.0</td>\n",
       "      <td>0.0</td>\n",
       "    </tr>\n",
       "  </tbody>\n",
       "</table>\n",
       "</div>"
      ],
      "text/plain": [
       "              train_cnt                                   test_cnt            \\\n",
       "                    sum        std       mean    max  min      sum       std   \n",
       "missing_modal                                                                  \n",
       "0.0             41555.0  31.646547  17.682979  554.0  1.0   7680.0  6.111881   \n",
       "1.0             39234.0  25.909245  16.695319  472.0  0.0   7105.0  4.866796   \n",
       "2.0             37762.0  23.525670  16.068936  263.0  0.0   6897.0  4.475896   \n",
       "\n",
       "                                     \n",
       "                   mean    max  min  \n",
       "missing_modal                        \n",
       "0.0            3.268085  116.0  0.0  \n",
       "1.0            3.023404   84.0  0.0  \n",
       "2.0            2.934894   56.0  0.0  "
      ]
     },
     "execution_count": 43,
     "metadata": {},
     "output_type": "execute_result"
    }
   ],
   "source": [
    "item_cnt_df[['train_cnt', 'test_cnt', 'missing_modal']].groupby(['missing_modal']).agg(['sum', 'std', 'mean', 'max', 'min'])"
   ]
  }
 ],
 "metadata": {
  "kernelspec": {
   "display_name": "RecEraser",
   "language": "python",
   "name": "python3"
  },
  "language_info": {
   "codemirror_mode": {
    "name": "ipython",
    "version": 3
   },
   "file_extension": ".py",
   "mimetype": "text/x-python",
   "name": "python",
   "nbconvert_exporter": "python",
   "pygments_lexer": "ipython3",
   "version": "3.8.8"
  }
 },
 "nbformat": 4,
 "nbformat_minor": 2
}
